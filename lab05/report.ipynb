{
 "cells": [
  {
   "cell_type": "markdown",
   "metadata": {},
   "source": [
    "# CPS305 Fall 2019\n",
    "## Lab $05$ Report\n",
    "## Mister Elijah Tungul, Std ID 500885285\n",
    "\n",
    "08 October 2019\n",
    "\n",
    "# Introduction and Overall Comments\n",
    "\n",
    "This is the submission of Mister Elijah Tungul. Overall, this lab wasn't too hard. The concepts were a bit confusing, such as resizing and rehashing into a new table. Once I understood the concept of resizing, the lab wasn't too much trouble."
   ]
  },
  {
   "cell_type": "markdown",
   "metadata": {},
   "source": [
    "## Solution for Exercise 1"
   ]
  },
  {
   "cell_type": "code",
   "execution_count": 8,
   "metadata": {},
   "outputs": [
    {
     "name": "stdout",
     "output_type": "stream",
     "text": [
      "[77, None, None, None, 26, 93, 17, None, None, 31, 54]\n",
      "['grape', None, None, None, 'banana', 'orange', 'pear', None, None, 'kiwi', 'apple']\n",
      "11\n",
      "[44, 93, None, 26, None, None, None, None, 77, 31, 54, 55, None, None, None, None, None, 17, None, None, 20, None, None]\n",
      "['peach', 'orange', None, 'banana', None, None, None, None, 'grape', 'kiwi', 'apple', 'plum', None, None, None, None, None, 'pear', None, None, 'cherry', None, None]\n",
      "23\n"
     ]
    }
   ],
   "source": [
    "from hashing import HashTable\n",
    "\n",
    "H=HashTable()\n",
    "H[54]=\"apple\"\n",
    "H[26]=\"banana\"\n",
    "H[93]=\"orange\"\n",
    "H[17]=\"pear\"\n",
    "H[77]=\"grape\"\n",
    "H[31]=\"kiwi\"\n",
    "print(H.slots)\n",
    "print(H.data)\n",
    "print(H.size)\n",
    "\n",
    "H[44]=\"peach\"\n",
    "H[55]=\"plum\"\n",
    "H[20]=\"cherry\"\n",
    "print(H.slots)\n",
    "print(H.data)\n",
    "print(H.size)"
   ]
  },
  {
   "cell_type": "markdown",
   "metadata": {},
   "source": [
    "**Discussion of the Results**\n",
    "\n",
    "**Why did you choose a particular resizing method? How much does your table grow at each resize operation?**\n",
    "\n",
    "I chose a resizing method where a new hash table is created, and the keys and data are transferred to the new, larger table. I chose this method because of the simple implementation, and it works very well. The table doubles, then adds 1, to keep the table length mostly prime.\n",
    "\n",
    "**What loading factor threshold have used for the resizing the table and why that particular choice?**\n",
    "\n",
    "I used a 50% loading factor threshold because a higher threshold would cause more collisions. With a (somewhat) lower loading factor, this decreases the amount of collisions since keys will be in the place they should be in."
   ]
  }
 ],
 "metadata": {
  "kernelspec": {
   "display_name": "Python 3",
   "language": "python",
   "name": "python3"
  },
  "language_info": {
   "codemirror_mode": {
    "name": "ipython",
    "version": 3
   },
   "file_extension": ".py",
   "mimetype": "text/x-python",
   "name": "python",
   "nbconvert_exporter": "python",
   "pygments_lexer": "ipython3",
   "version": "3.7.0"
  },
  "latex_envs": {
   "LaTeX_envs_menu_present": true,
   "autoclose": false,
   "autocomplete": true,
   "bibliofile": "biblio.bib",
   "cite_by": "apalike",
   "current_citInitial": 1,
   "eqLabelWithNumbers": true,
   "eqNumInitial": 1,
   "hotkeys": {
    "equation": "Ctrl-E",
    "itemize": "Ctrl-I"
   },
   "labels_anchors": false,
   "latex_user_defs": false,
   "report_style_numbering": false,
   "user_envs_cfg": false
  }
 },
 "nbformat": 4,
 "nbformat_minor": 2
}
