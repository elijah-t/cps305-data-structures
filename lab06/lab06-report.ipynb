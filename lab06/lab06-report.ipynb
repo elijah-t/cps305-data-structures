{
 "cells": [
  {
   "cell_type": "markdown",
   "metadata": {},
   "source": [
    "# CPS305 Fall 2019\n",
    "## Lab $06$ Report\n",
    "## Mister Elijah Tungul, Std ID 500885285\n",
    "\n",
    "28 October 2019\n",
    "\n",
    "# Introduction and Overall Comments\n",
    "\n",
    "This is the submission of Elijah Tungul. This lab presents the performance comparisons of canonical quicksort versus the \"median-of-three\" quicksort. An experiment was performed to verify the hypothesis that \"Canonic quickSort is as fast as mo3_quickSort when processing large lists of unsorted integers\". The method I chose to experiment my functions is by having a randomly generated list from a range of 10-1000, and have the interval increase by 10. Overall, the implementation of the median of three method wasn't too difficult, but getting the timeit and graph functions was fairly tough."
   ]
  },
  {
   "cell_type": "markdown",
   "metadata": {},
   "source": [
    "## Solution for Exercise 1"
   ]
  },
  {
   "cell_type": "code",
   "execution_count": 7,
   "metadata": {},
   "outputs": [
    {
     "data": {
      "image/png": "[encoded data removed]",
      "text/plain": [
       "<Figure size 432x288 with 1 Axes>"
      ]
     },
     "metadata": {
      "needs_background": "light"
     },
     "output_type": "display_data"
    }
   ],
   "source": [
    "import timeit\n",
    "import random\n",
    "import matplotlib.pyplot as plt\n",
    "\n",
    "def mo3_quicksort(alist):\n",
    "    mo3_quicksort_helper(alist, 0, len(alist)-1)\n",
    "\n",
    "def mo3_quicksort_helper(alist, first, last):\n",
    "    if first < last:\n",
    "        split = mo3_partition(alist,first,last)\n",
    "        mo3_quicksort_helper(alist, first, split-1)\n",
    "        mo3_quicksort_helper(alist, split+1, last)\n",
    "\n",
    "def mo3_partition(alist,first,last):\n",
    "   pivotvalue = mo3(alist, first, last)\n",
    "   leftmark = first+1\n",
    "   rightmark = last\n",
    "   done = False\n",
    "   while not done:\n",
    "       while leftmark <= rightmark and alist[leftmark] <= pivotvalue:\n",
    "           leftmark = leftmark + 1\n",
    "       while alist[rightmark] >= pivotvalue and rightmark >= leftmark:\n",
    "           rightmark = rightmark -1\n",
    "       if rightmark < leftmark:\n",
    "           done = True\n",
    "       else:\n",
    "           temp = alist[leftmark]\n",
    "           alist[leftmark] = alist[rightmark]\n",
    "           alist[rightmark] = temp\n",
    "   temp = alist[first]\n",
    "   alist[first] = alist[rightmark]\n",
    "   alist[rightmark] = temp\n",
    "   return rightmark\n",
    "\n",
    "def mo3(alist, first, last):\n",
    "    middle = (last-first)//2 + first\n",
    "    if(alist[middle] < alist[first]):\n",
    "        swap(alist, middle, first)\n",
    "    if(alist[last] < alist[first]):\n",
    "        swap(alist, last, first)\n",
    "    if(alist[middle] < alist[last]):\n",
    "        swap(alist, middle, last)\n",
    "    return alist[first]\n",
    "\n",
    "def swap(alist, first, last):\n",
    "    temp = alist[first]\n",
    "    alist[first] = alist[last]\n",
    "    alist[last] = temp\n",
    "\n",
    "########################################\n",
    "\n",
    "def quickSort(alist):\n",
    "   quickSortHelper(alist,0,len(alist)-1)\n",
    "\n",
    "def quickSortHelper(alist,first,last):\n",
    "   if first<last:\n",
    "       splitpoint = partition(alist,first,last)\n",
    "       quickSortHelper(alist,first,splitpoint-1)\n",
    "       quickSortHelper(alist,splitpoint+1,last)\n",
    "\n",
    "def partition(alist,first,last):\n",
    "   pivotvalue = alist[first]\n",
    "   leftmark = first+1\n",
    "   rightmark = last\n",
    "   done = False\n",
    "   while not done:\n",
    "       while leftmark <= rightmark and alist[leftmark] <= pivotvalue:\n",
    "           leftmark = leftmark + 1\n",
    "       while alist[rightmark] >= pivotvalue and rightmark >= leftmark:\n",
    "           rightmark = rightmark -1\n",
    "       if rightmark < leftmark:\n",
    "           done = True\n",
    "       else:\n",
    "           temp = alist[leftmark]\n",
    "           alist[leftmark] = alist[rightmark]\n",
    "           alist[rightmark] = temp\n",
    "   temp = alist[first]\n",
    "   alist[first] = alist[rightmark]\n",
    "   alist[rightmark] = temp\n",
    "   return rightmark\n",
    "\n",
    "########################################\n",
    "\n",
    "y_mo3 = []\n",
    "y_canon = []\n",
    "reps = 10\n",
    "rng = range(10, 1000, 10)\n",
    "for i in rng:\n",
    "    for j in range(reps):\n",
    "        t = timeit.Timer(\"mo3_quicksort(x)\", \"from __main__ import x, mo3_quicksort\")\n",
    "        t2 = timeit.Timer(\"quickSort(x)\", \"from __main__ import x, quickSort\")\n",
    "        x = [random.randint(10,100) for j in range(i)]\n",
    "        y_mo3_time = t.timeit(number=10)\n",
    "        y_canon_time = t2.timeit(number=10)\n",
    "    y_mo3.append(y_mo3_time/reps)\n",
    "    y_canon.append(y_canon_time/reps)\n",
    "x = rng\n",
    "plt.plot(x, y_mo3, 'r', label=\"Median of Three QS\")\n",
    "plt.plot(x, y_canon, 'b', label=\"Canonical QS\")\n",
    "plt.title(\"Performance of MO3 and Canonical Quicksort\")\n",
    "plt.xlabel(\"Size of List\")\n",
    "plt.ylabel(\"Time (in milliseconds)\")\n",
    "plt.legend()\n",
    "plt.show()"
   ]
  },
  {
   "cell_type": "markdown",
   "metadata": {},
   "source": [
    "**Discussion of the Results**\n",
    "\n",
    "The graph shows that the hypothesis is mostly correct. Even with few errors, the canonical quicksort is as fast as \"median-of-three\" quicksort (at about O(n log n)). \n"
   ]
  }
 ],
 "metadata": {
  "kernelspec": {
   "display_name": "Python 3",
   "language": "python",
   "name": "python3"
  },
  "language_info": {
   "codemirror_mode": {
    "name": "ipython",
    "version": 3
   },
   "file_extension": ".py",
   "mimetype": "text/x-python",
   "name": "python",
   "nbconvert_exporter": "python",
   "pygments_lexer": "ipython3",
   "version": "3.7.0"
  },
  "latex_envs": {
   "LaTeX_envs_menu_present": true,
   "autoclose": false,
   "autocomplete": true,
   "bibliofile": "biblio.bib",
   "cite_by": "apalike",
   "current_citInitial": 1,
   "eqLabelWithNumbers": true,
   "eqNumInitial": 1,
   "hotkeys": {
    "equation": "Ctrl-E",
    "itemize": "Ctrl-I"
   },
   "labels_anchors": false,
   "latex_user_defs": false,
   "report_style_numbering": false,
   "user_envs_cfg": false
  }
 },
 "nbformat": 4,
 "nbformat_minor": 2
}
