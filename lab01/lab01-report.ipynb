{
 "cells": [
  {
   "cell_type": "markdown",
   "metadata": {},
   "source": [
    "# CPS305 Fall 2019\n",
    "## Lab $01$ Report\n",
    "## Mister Elijah Tungul, Std ID 500885285\n",
    "\n",
    "10 September 2019\n",
    "\n",
    "# Introduction and Overall Comments\n",
    "\n",
    "This is the submission of Elijah Tungul. Overall, this lab wasn't too bad. The helper functions and overall function wasn't too hard to figure out. The hardest part of this lab was figuring out how to implement the one character randomization algorithm, as well as a way to unit test a random string generator."
   ]
  },
  {
   "cell_type": "markdown",
   "metadata": {},
   "source": [
    "## Solution for exercise 1"
   ]
  },
  {
   "cell_type": "code",
   "execution_count": 2,
   "metadata": {},
   "outputs": [
    {
     "name": "stdout",
     "output_type": "stream",
     "text": [
      "String                       Score             Iteration\n",
      "kbm netltvmepjdxcnculctaalug 3.57143               0\n",
      "methiitltvmepjdxcnculctaalug 21.42857             100\n",
      "methinks imepjdxcnculctaalug 39.28571             200\n",
      "methinks it iszxcnculctaalug 53.57143             300\n",
      "methinks it is liyculctaalug 64.28571             400\n",
      "methinks it is like wctaalug 75.00000             500\n",
      "methinks it is like a weapug 89.28571             600\n",
      "methinks it is like a weasel 100.00000            684\n"
     ]
    },
    {
     "data": {
      "image/png": "[encoded data removed]",
      "text/plain": [
       "<Figure size 432x288 with 1 Axes>"
      ]
     },
     "metadata": {
      "needs_background": "light"
     },
     "output_type": "display_data"
    }
   ],
   "source": [
    "from mySolution import monkeyTypist\n",
    "\n",
    "monkeyTypist()"
   ]
  },
  {
   "cell_type": "markdown",
   "metadata": {},
   "source": [
    "**Discussion of the Results**\n",
    "\n",
    "The results shown here are accurate to the results shown in the lab. \n",
    "Overall, I am very pleased with these results."
   ]
  }
 ],
 "metadata": {
  "kernelspec": {
   "display_name": "Python 3",
   "language": "python",
   "name": "python3"
  },
  "language_info": {
   "codemirror_mode": {
    "name": "ipython",
    "version": 3
   },
   "file_extension": ".py",
   "mimetype": "text/x-python",
   "name": "python",
   "nbconvert_exporter": "python",
   "pygments_lexer": "ipython3",
   "version": "3.7.0"
  },
  "latex_envs": {
   "LaTeX_envs_menu_present": true,
   "autoclose": false,
   "autocomplete": true,
   "bibliofile": "biblio.bib",
   "cite_by": "apalike",
   "current_citInitial": 1,
   "eqLabelWithNumbers": true,
   "eqNumInitial": 1,
   "hotkeys": {
    "equation": "Ctrl-E",
    "itemize": "Ctrl-I"
   },
   "labels_anchors": false,
   "latex_user_defs": false,
   "report_style_numbering": false,
   "user_envs_cfg": false
  }
 },
 "nbformat": 4,
 "nbformat_minor": 2
}
